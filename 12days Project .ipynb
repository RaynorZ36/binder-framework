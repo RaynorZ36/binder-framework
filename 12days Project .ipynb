{
 "cells": [
  {
   "cell_type": "code",
   "execution_count": 11,
   "id": "08c131c0",
   "metadata": {},
   "outputs": [],
   "source": [
    "import numpy as np\n",
    "import pandas as pd\n",
    "import matplotlib.pyplot as plt\n",
    "import seaborn as sns"
   ]
  },
  {
   "cell_type": "code",
   "execution_count": 12,
   "id": "7e3b05a7",
   "metadata": {},
   "outputs": [],
   "source": [
    "df_energy = pd.read_csv('data/Value_of_Energy_Cost_Savings_Program_Savings_for_Businesses_-_FY2020.csv')"
   ]
  },
  {
   "cell_type": "code",
   "execution_count": 13,
   "id": "b884701a",
   "metadata": {},
   "outputs": [
    {
     "data": {
      "text/plain": [
       "<bound method DataFrame.info of                                  Company Name    company contact  \\\n",
       "0                              1 State Street      David Neiburg   \n",
       "1                              100 Church LLC  Edward A. Carroll   \n",
       "2                        100 Wall Investments       Jerry Branam   \n",
       "3                 1-10 Bush Terminal Owner LP     Andrew Kimball   \n",
       "4    120 Broadway Acquisitions JV, LLC (Ldmk)        Carl Letich   \n",
       "..                                        ...                ...   \n",
       "445                         WONTON FOOD, INC.         DONALD LAU   \n",
       "446                                Wood Works       Gordon Brawm   \n",
       "447           WorldWide Plumbing Supply, Inc.    Surie Lefkowitz   \n",
       "448                         WUD Furniture LLC     Keren Springer   \n",
       "449                       Wurtec Incorporated          Bill Popp   \n",
       "\n",
       "                 company email company phone                Address  \\\n",
       "0       eskoblo@energyspec.com    7186779077          1114 Avenue J   \n",
       "1                          NaN    2125663000      100 Church Street   \n",
       "2                          NaN    2122487160         96 Wall Street   \n",
       "3    akimball@industrycity.com    3474178429  220 36th St, Suite 2A   \n",
       "4        clettich@silvprop.com    2124064020           120 Broadway   \n",
       "..                         ...           ...                    ...   \n",
       "445   donaldlau@wontonfood.com    7186286868  220-222  MOORE STREET   \n",
       "446       brawnworks@gmail.com    9179404950        162 Cook Street   \n",
       "447           sheidya@wwps.com    7188533002        125 Lake Avenue   \n",
       "448     keren@wudfurniture.com    7184867952   1102 Atlantic Avenue   \n",
       "449       bill.popp@wurtec.com    4197261066      31-50 31st Street   \n",
       "\n",
       "                 City State  Postcode                          Industry  \\\n",
       "0            Brooklyn    NY     11230                        Commercial   \n",
       "1                  NY    NY     10007                        Commercial   \n",
       "2            New York    NY     10005                          Landlord   \n",
       "3            Brooklyn    NY     11232                          Landlord   \n",
       "4            New York    NY     10271                        Commercial   \n",
       "..                ...   ...       ...                               ...   \n",
       "445          Brooklyn    NY     11206                     Manufacturing   \n",
       "446          Brooklyn    NY     11206                     Manufacturing   \n",
       "447     Staten Island    NY     10303                     Manufacturing   \n",
       "448          Brooklyn    NY     11238                     Manufacturing   \n",
       "449  Lond Island City    NY     11106  Wholesale/Warehouse/Distribution   \n",
       "\n",
       "                                        Industry descr  ...  \\\n",
       "0                                    35 story building  ...   \n",
       "1                                            21 Floors  ...   \n",
       "2                                                  NaN  ...   \n",
       "3    Special Eligible Premises for eligible businesses  ...   \n",
       "4                                                  NaN  ...   \n",
       "..                                                 ...  ...   \n",
       "445                          MFG. PASTA, EGGROLL SKINS  ...   \n",
       "446                        Installer of wood furniture  ...   \n",
       "447      Plumbing Fixtures, Parts & Supplies, Plumbers  ...   \n",
       "448  We make handcrafted furniture, surfaces, lighting  ...   \n",
       "449                         Elevator  tooling products  ...   \n",
       "\n",
       "    Savings from beginning receiving benefits        Borough   Latitude  \\\n",
       "0                                      349.78       Brooklyn  40.624784   \n",
       "1                                  4423698.05       New York  40.712968   \n",
       "2                                  1814542.62       New York  40.705052   \n",
       "3                                     6755.31       Brooklyn  40.656061   \n",
       "4                                  3293055.08       New York  40.708546   \n",
       "..                                        ...            ...        ...   \n",
       "445                                 965843.58       Brooklyn  40.704425   \n",
       "446                                   3585.40       Brooklyn  40.702869   \n",
       "447                                  20487.73  Staten Island  40.633518   \n",
       "448                                  12287.32       Brooklyn  40.679518   \n",
       "449                                      0.00         Queens  40.763148   \n",
       "\n",
       "     Longitude Community Board  Council District  Census Tract        BIN  \\\n",
       "0   -73.964920           314.0              44.0         534.0  3179818.0   \n",
       "1   -74.009490           101.0               1.0          21.0  1001409.0   \n",
       "2   -74.007199           101.0               1.0           7.0  1000875.0   \n",
       "3   -74.007334           307.0              38.0           2.0  3398687.0   \n",
       "4   -74.011041           101.0               1.0           7.0  1001026.0   \n",
       "..         ...             ...               ...           ...        ...   \n",
       "445 -73.936010           301.0              34.0         485.0  3071539.0   \n",
       "446 -73.936466           301.0              34.0         485.0  3071625.0   \n",
       "447 -74.150942           501.0              49.0         239.0  5107122.0   \n",
       "448 -73.956819           308.0              35.0         305.0  3027572.0   \n",
       "449 -73.924442           401.0              22.0          61.0  4007562.0   \n",
       "\n",
       "              BBL                                                NTA  \n",
       "0    3.067130e+09                                            Midwood  \n",
       "1    1.001250e+09             SoHo-TriBeCa-Civic Center-Little Italy  \n",
       "2    1.000380e+09                  Battery Park City-Lower Manhattan  \n",
       "3    3.006950e+09                                   Sunset Park West  \n",
       "4    1.000478e+09                  Battery Park City-Lower Manhattan  \n",
       "..            ...                                                ...  \n",
       "445  3.031090e+09                                     Bushwick South  \n",
       "446  3.031230e+09                                     Bushwick South  \n",
       "447  5.011610e+09  Mariner's Harbor-Arlington-Port Ivory-Granitev...  \n",
       "448  3.011260e+09                                Crown Heights North  \n",
       "449  4.005890e+09                                            Astoria  \n",
       "\n",
       "[450 rows x 26 columns]>"
      ]
     },
     "execution_count": 13,
     "metadata": {},
     "output_type": "execute_result"
    }
   ],
   "source": [
    "df_energy.info"
   ]
  },
  {
   "cell_type": "code",
   "execution_count": 14,
   "id": "febe6cd8",
   "metadata": {},
   "outputs": [],
   "source": [
    "# Q1 How many different companies are represented in the data set?"
   ]
  },
  {
   "cell_type": "code",
   "execution_count": 15,
   "id": "c712500d",
   "metadata": {},
   "outputs": [
    {
     "data": {
      "text/html": [
       "<div>\n",
       "<style scoped>\n",
       "    .dataframe tbody tr th:only-of-type {\n",
       "        vertical-align: middle;\n",
       "    }\n",
       "\n",
       "    .dataframe tbody tr th {\n",
       "        vertical-align: top;\n",
       "    }\n",
       "\n",
       "    .dataframe thead th {\n",
       "        text-align: right;\n",
       "    }\n",
       "</style>\n",
       "<table border=\"1\" class=\"dataframe\">\n",
       "  <thead>\n",
       "    <tr style=\"text-align: right;\">\n",
       "      <th></th>\n",
       "      <th>Company Name</th>\n",
       "      <th>company contact</th>\n",
       "      <th>company email</th>\n",
       "      <th>company phone</th>\n",
       "      <th>Address</th>\n",
       "      <th>City</th>\n",
       "      <th>State</th>\n",
       "      <th>Postcode</th>\n",
       "      <th>Industry</th>\n",
       "      <th>Industry descr</th>\n",
       "      <th>...</th>\n",
       "      <th>Savings from beginning receiving benefits</th>\n",
       "      <th>Borough</th>\n",
       "      <th>Latitude</th>\n",
       "      <th>Longitude</th>\n",
       "      <th>Community Board</th>\n",
       "      <th>Council District</th>\n",
       "      <th>Census Tract</th>\n",
       "      <th>BIN</th>\n",
       "      <th>BBL</th>\n",
       "      <th>NTA</th>\n",
       "    </tr>\n",
       "  </thead>\n",
       "  <tbody>\n",
       "    <tr>\n",
       "      <th>445</th>\n",
       "      <td>WONTON FOOD, INC.</td>\n",
       "      <td>DONALD LAU</td>\n",
       "      <td>donaldlau@wontonfood.com</td>\n",
       "      <td>7186286868</td>\n",
       "      <td>220-222  MOORE STREET</td>\n",
       "      <td>Brooklyn</td>\n",
       "      <td>NY</td>\n",
       "      <td>11206</td>\n",
       "      <td>Manufacturing</td>\n",
       "      <td>MFG. PASTA, EGGROLL SKINS</td>\n",
       "      <td>...</td>\n",
       "      <td>965843.58</td>\n",
       "      <td>Brooklyn</td>\n",
       "      <td>40.704425</td>\n",
       "      <td>-73.936010</td>\n",
       "      <td>301.0</td>\n",
       "      <td>34.0</td>\n",
       "      <td>485.0</td>\n",
       "      <td>3071539.0</td>\n",
       "      <td>3.031090e+09</td>\n",
       "      <td>Bushwick South</td>\n",
       "    </tr>\n",
       "    <tr>\n",
       "      <th>446</th>\n",
       "      <td>Wood Works</td>\n",
       "      <td>Gordon Brawm</td>\n",
       "      <td>brawnworks@gmail.com</td>\n",
       "      <td>9179404950</td>\n",
       "      <td>162 Cook Street</td>\n",
       "      <td>Brooklyn</td>\n",
       "      <td>NY</td>\n",
       "      <td>11206</td>\n",
       "      <td>Manufacturing</td>\n",
       "      <td>Installer of wood furniture</td>\n",
       "      <td>...</td>\n",
       "      <td>3585.40</td>\n",
       "      <td>Brooklyn</td>\n",
       "      <td>40.702869</td>\n",
       "      <td>-73.936466</td>\n",
       "      <td>301.0</td>\n",
       "      <td>34.0</td>\n",
       "      <td>485.0</td>\n",
       "      <td>3071625.0</td>\n",
       "      <td>3.031230e+09</td>\n",
       "      <td>Bushwick South</td>\n",
       "    </tr>\n",
       "    <tr>\n",
       "      <th>447</th>\n",
       "      <td>WorldWide Plumbing Supply, Inc.</td>\n",
       "      <td>Surie Lefkowitz</td>\n",
       "      <td>sheidya@wwps.com</td>\n",
       "      <td>7188533002</td>\n",
       "      <td>125 Lake Avenue</td>\n",
       "      <td>Staten Island</td>\n",
       "      <td>NY</td>\n",
       "      <td>10303</td>\n",
       "      <td>Manufacturing</td>\n",
       "      <td>Plumbing Fixtures, Parts &amp; Supplies, Plumbers</td>\n",
       "      <td>...</td>\n",
       "      <td>20487.73</td>\n",
       "      <td>Staten Island</td>\n",
       "      <td>40.633518</td>\n",
       "      <td>-74.150942</td>\n",
       "      <td>501.0</td>\n",
       "      <td>49.0</td>\n",
       "      <td>239.0</td>\n",
       "      <td>5107122.0</td>\n",
       "      <td>5.011610e+09</td>\n",
       "      <td>Mariner's Harbor-Arlington-Port Ivory-Granitev...</td>\n",
       "    </tr>\n",
       "    <tr>\n",
       "      <th>448</th>\n",
       "      <td>WUD Furniture LLC</td>\n",
       "      <td>Keren Springer</td>\n",
       "      <td>keren@wudfurniture.com</td>\n",
       "      <td>7184867952</td>\n",
       "      <td>1102 Atlantic Avenue</td>\n",
       "      <td>Brooklyn</td>\n",
       "      <td>NY</td>\n",
       "      <td>11238</td>\n",
       "      <td>Manufacturing</td>\n",
       "      <td>We make handcrafted furniture, surfaces, lighting</td>\n",
       "      <td>...</td>\n",
       "      <td>12287.32</td>\n",
       "      <td>Brooklyn</td>\n",
       "      <td>40.679518</td>\n",
       "      <td>-73.956819</td>\n",
       "      <td>308.0</td>\n",
       "      <td>35.0</td>\n",
       "      <td>305.0</td>\n",
       "      <td>3027572.0</td>\n",
       "      <td>3.011260e+09</td>\n",
       "      <td>Crown Heights North</td>\n",
       "    </tr>\n",
       "    <tr>\n",
       "      <th>449</th>\n",
       "      <td>Wurtec Incorporated</td>\n",
       "      <td>Bill Popp</td>\n",
       "      <td>bill.popp@wurtec.com</td>\n",
       "      <td>4197261066</td>\n",
       "      <td>31-50 31st Street</td>\n",
       "      <td>Lond Island City</td>\n",
       "      <td>NY</td>\n",
       "      <td>11106</td>\n",
       "      <td>Wholesale/Warehouse/Distribution</td>\n",
       "      <td>Elevator  tooling products</td>\n",
       "      <td>...</td>\n",
       "      <td>0.00</td>\n",
       "      <td>Queens</td>\n",
       "      <td>40.763148</td>\n",
       "      <td>-73.924442</td>\n",
       "      <td>401.0</td>\n",
       "      <td>22.0</td>\n",
       "      <td>61.0</td>\n",
       "      <td>4007562.0</td>\n",
       "      <td>4.005890e+09</td>\n",
       "      <td>Astoria</td>\n",
       "    </tr>\n",
       "  </tbody>\n",
       "</table>\n",
       "<p>5 rows × 26 columns</p>\n",
       "</div>"
      ],
      "text/plain": [
       "                        Company Name  company contact  \\\n",
       "445                WONTON FOOD, INC.       DONALD LAU   \n",
       "446                       Wood Works     Gordon Brawm   \n",
       "447  WorldWide Plumbing Supply, Inc.  Surie Lefkowitz   \n",
       "448                WUD Furniture LLC   Keren Springer   \n",
       "449              Wurtec Incorporated        Bill Popp   \n",
       "\n",
       "                company email company phone                Address  \\\n",
       "445  donaldlau@wontonfood.com    7186286868  220-222  MOORE STREET   \n",
       "446      brawnworks@gmail.com    9179404950        162 Cook Street   \n",
       "447          sheidya@wwps.com    7188533002        125 Lake Avenue   \n",
       "448    keren@wudfurniture.com    7184867952   1102 Atlantic Avenue   \n",
       "449      bill.popp@wurtec.com    4197261066      31-50 31st Street   \n",
       "\n",
       "                 City State  Postcode                          Industry  \\\n",
       "445          Brooklyn    NY     11206                     Manufacturing   \n",
       "446          Brooklyn    NY     11206                     Manufacturing   \n",
       "447     Staten Island    NY     10303                     Manufacturing   \n",
       "448          Brooklyn    NY     11238                     Manufacturing   \n",
       "449  Lond Island City    NY     11106  Wholesale/Warehouse/Distribution   \n",
       "\n",
       "                                        Industry descr  ...  \\\n",
       "445                          MFG. PASTA, EGGROLL SKINS  ...   \n",
       "446                        Installer of wood furniture  ...   \n",
       "447      Plumbing Fixtures, Parts & Supplies, Plumbers  ...   \n",
       "448  We make handcrafted furniture, surfaces, lighting  ...   \n",
       "449                         Elevator  tooling products  ...   \n",
       "\n",
       "    Savings from beginning receiving benefits        Borough   Latitude  \\\n",
       "445                                 965843.58       Brooklyn  40.704425   \n",
       "446                                   3585.40       Brooklyn  40.702869   \n",
       "447                                  20487.73  Staten Island  40.633518   \n",
       "448                                  12287.32       Brooklyn  40.679518   \n",
       "449                                      0.00         Queens  40.763148   \n",
       "\n",
       "     Longitude Community Board  Council District  Census Tract        BIN  \\\n",
       "445 -73.936010           301.0              34.0         485.0  3071539.0   \n",
       "446 -73.936466           301.0              34.0         485.0  3071625.0   \n",
       "447 -74.150942           501.0              49.0         239.0  5107122.0   \n",
       "448 -73.956819           308.0              35.0         305.0  3027572.0   \n",
       "449 -73.924442           401.0              22.0          61.0  4007562.0   \n",
       "\n",
       "              BBL                                                NTA  \n",
       "445  3.031090e+09                                     Bushwick South  \n",
       "446  3.031230e+09                                     Bushwick South  \n",
       "447  5.011610e+09  Mariner's Harbor-Arlington-Port Ivory-Granitev...  \n",
       "448  3.011260e+09                                Crown Heights North  \n",
       "449  4.005890e+09                                            Astoria  \n",
       "\n",
       "[5 rows x 26 columns]"
      ]
     },
     "execution_count": 15,
     "metadata": {},
     "output_type": "execute_result"
    }
   ],
   "source": [
    "df_energy.tail(5)"
   ]
  },
  {
   "cell_type": "code",
   "execution_count": 16,
   "id": "9232dd69",
   "metadata": {},
   "outputs": [
    {
     "data": {
      "text/plain": [
       "FEDERAL EXPRESS                3\n",
       "JetBlue Airways, Corp.         2\n",
       "KEPCO, INC.                    2\n",
       "FRESH DIRECT LLC               2\n",
       "MEDITERRANEAN GYRO PRODUCTS    2\n",
       "Name: Company Name, dtype: int64"
      ]
     },
     "execution_count": 16,
     "metadata": {},
     "output_type": "execute_result"
    }
   ],
   "source": [
    "list_company = df_energy['Company Name'].value_counts()\n",
    "list_company.head(5)"
   ]
  },
  {
   "cell_type": "code",
   "execution_count": 17,
   "id": "ef9d8a02",
   "metadata": {},
   "outputs": [],
   "source": [
    "num_company = df_energy['Company Name'].unique()"
   ]
  },
  {
   "cell_type": "code",
   "execution_count": 18,
   "id": "f53efa1a",
   "metadata": {},
   "outputs": [
    {
     "name": "stdout",
     "output_type": "stream",
     "text": [
      "['1 State Street' '100 Church LLC' '100 Wall Investments'\n",
      " '1-10 Bush Terminal Owner LP' '120 Broadway Acquisitions JV, LLC (Ldmk)'\n",
      " '120 Wall Street, LLC' '139 ACA Realty, Inc.'\n",
      " '141 Lake Avenue Realty c/o JR Produce, Inc.' '14-10 123rd Street LLC'\n",
      " '183 Lorriane Street LLC' '195 Broadway, LLC' '2 Rector Street (NY) LLC'\n",
      " '21st Century Optics, Inc.' '25 Broadway (Ldmk)' '4Over4.com'\n",
      " '538-540 West 35 Corp' '55 Water, LLC' '72andSunny Partners LLC'\n",
      " '75 Broad Street' 'A & L Scientific Corp.' 'A.K.S. International, Inc'\n",
      " 'ABEL CINE TECH, INC.' 'ABIGAL PRESS, INC.' 'Accenture LLP'\n",
      " 'Achieve Beyond, Inc. (Formerly Bilinguals, Inc.)'\n",
      " 'Action Carting Environmental Services, Inc' 'ADP Oak Point LLC'\n",
      " 'AECOM Technical Services Inc' 'Aesthetonics, Inc.'\n",
      " 'AFC INDUSTRIES, INC.' 'African Services Committee, Inc.'\n",
      " 'Aids Vaccine Advocacy Coalition' 'ALADDIN BAKERS, INC/Bread Head, LLC.'\n",
      " 'Albert Einstein College of Medicine R&D' 'Alchemy Paintworks LLC'\n",
      " 'All City Metal, Inc.' 'ALLE PROCESSING CORP.'\n",
      " 'ALLIED SAMPLE CARDS CO., INC.' 'Allison Eden Studios'\n",
      " 'Allstate Medical Supplies LLC' 'ALRUE IMPORT COPR.'\n",
      " 'Amazon Corporate LLC' 'American Bridge Company'\n",
      " 'American Folk Art Museum' 'American Torque, Inc.'\n",
      " 'American Transit Insurance Co' 'AMY SCHERBER, INC.' 'ANHEUSER BUSH'\n",
      " 'Apex Logistics International (JFK), Inc' 'Apple Bank for Savings'\n",
      " 'Approved Oil Co. of Brooklyn, Inc.' 'APTHORP CLEANERS, INC.'\n",
      " 'Arista Coffee, Inc.' 'Armada New York LLC' 'ARROW LINEN SUPPLY CO.'\n",
      " 'Asymptote Architecture, PLLC' 'B. Thayer Associates'\n",
      " 'B.C.S. International Corporation' 'B.P. AIR CONDITIONING CORP/'\n",
      " 'BACO ENTERPRISES, INC.' 'BALDOR SPECIALTY FOOD'\n",
      " 'BANNER SMOKED FISH, INC.' 'BARK FRAMEWORKS, INC.'\n",
      " 'BARONE STEEL FABRICATORS, INC.' 'Barry X. Ball Studio, Inc.'\n",
      " 'BCGA Concept Corporation' 'Belmont Metals' 'BENSON MILLS, INC.'\n",
      " 'Bermuda Motor Car Renting Co.' 'BEST CASE & ACCESSORIES, INC.'\n",
      " 'Best Choice Trading Corp' 'Best Mounting Corp.' 'Bestec Concept, Inc.'\n",
      " 'Bigheavy Studios' 'BILLIE-ANN PLASTICS PKGING CORP' \"BIMMY'S LLC\"\n",
      " 'Birns Telecommunication, Inc.' 'Bjork Carle Woodworking, Inc.'\n",
      " 'Blumberg Excelsior, Inc.' 'Bo Bo Poultry Market, Inc.'\n",
      " 'BoyceTechnologies, Inc.' 'Breuckelen Distilling Co., Inc.'\n",
      " 'BRIDGE PLAZA ASSOCIATES LLC' 'Bronx River Media Group, LLC'\n",
      " 'Bronx Westchester Tempering, Inc' 'Brooklyn Immuno Therapeutics LLC'\n",
      " 'Brooklyn Nets' 'BROOKLYN UNION GAS COMPANY'\n",
      " 'Brooklyn Wholesale Bakery LLC' 'Brunetti & Brunetti LLC' 'Burden, LLC'\n",
      " 'CAMEO METAL PRODUCTS, INC.' 'Caples Jefferson Architects, PC'\n",
      " 'Carlton House Restoration, Inc.' 'CARNEGIE LINEN SERVICES, INC.'\n",
      " 'Casual Films, Inc.' 'CAVCO ROOFING, INC.' 'Chase Bank, N.A.'\n",
      " 'Chelsea Plastics Corp/Plexi-Craft Quality Products'\n",
      " \"Christie's Fine Art Storage Services, Inc\" \"Christie's Inc.\"\n",
      " 'Citibank, N.A.' 'City Baking LLC aka Bakery City LLC'\n",
      " 'CN MANAGEMENT LLC' 'Collins Building Services, Inc.' 'COMFORT BEDDING'\n",
      " 'Comp Trading LLC' 'Computer Services Group, Inc.' 'Concept Farm, Inc.'\n",
      " 'Constitution Realty LLC (Ldmk)' 'COOL WIND VENTILATION CORP.'\n",
      " 'CORONET PARTS MANUFACTURING CO. INC' 'COSMOS COMMUNICATIONS'\n",
      " 'Cotronics Corporation' 'Crepini, LLC' 'Crystal Lake Trading, Inc.'\n",
      " 'Cyracom International, Inc.' 'D.C. CENTER CORP' 'D.S. & Durga LLC'\n",
      " 'DAIRYLAND USA CORP.' 'Daniel Scuderi' 'Dart Medical Labortory, Inc.'\n",
      " 'Dasny Mechanical Inc.' 'DBAB Wall Street, LLC.' 'DCD Marketing Ltd.'\n",
      " 'Deep Draw Silver, Inc.' 'Delvi Realty Corp.' 'DEPOSITORY TRUST COMPANY'\n",
      " 'Deutsche Bank Securities, Inc.' 'DI DOMENICO & PARTNERS LLP'\n",
      " 'DIAMOND STREET PROPERTIES' 'Dinas Distribution Corp.'\n",
      " 'Down East & Seafood, Inc.' 'Dr. Smood New York Production LLC'\n",
      " 'Duce Construction Corp.' 'Dundy Glass & Mirror Corp.' 'DURA FOAM, INC.'\n",
      " 'E&C Property Holdings South, Inc.' 'E. J. York, Inc.'\n",
      " 'East Coast Envelope & Graphics, LLC' 'EASTERN CONCEPTS, INC.'\n",
      " 'Eastern Effects, Inc.' 'Eastern Plating, Inc.'\n",
      " 'Eclectic/Encore Properties, Inc.' 'EDISON PRICE, INC.' 'EMG Media, Inc.'\n",
      " 'Empress Media, Inc.' 'Epic Pharma LLC' 'Estee Lauder Companies, Inc'\n",
      " 'Evergreen 105 LLC' 'EverGreene Architectural Arts, Inc.'\n",
      " 'Export Trade of America, Inc.' 'E-Z Ink, Inc.' 'Fairway Bakery LLC'\n",
      " \"FALCONE'S COOKIELAND, LTD.\" 'FAT WITCH BAKERY, INC.'\n",
      " 'Faviana International Inc' 'FAVORITE PLASTICS CO., INC.'\n",
      " 'Fay Da Manufacturing Corp.' 'FEDERAL EXPRESS'\n",
      " 'Fidelity Payment Services Ltd.' 'First United Distribution Corp.'\n",
      " 'Food Saver, New York, Inc.' 'FoodFest Depot LLC'\n",
      " 'FOREST CITY PIERREPONT ASSOCIATES' 'Foster Reeve & Associates, Inc.'\n",
      " 'Franke Gottsegen & Cox Architect.' 'FRED GELLER ELECTRICAL, INC.'\n",
      " 'FRESH DIRECT LLC' 'G & G Manhattan Fruitier, Inc.'\n",
      " 'Gailer Stamping & Die Cutting, LLC' 'GBW LLC' 'gCreate LLC'\n",
      " 'Global Container Terminal (GCT) New York LP' 'Globus Cork, Inc.'\n",
      " 'Goldstein Capital Corp' 'Gotham Greens Gowanus LLC'\n",
      " 'GOTHAM SEAFOOD CORP.' 'GOURMET BOUTIQUE LLC'\n",
      " 'Graf & Lewent Architects LLP' 'Graham Windham Organization'\n",
      " 'GRAND MERIDIAN PRINTINGS, INC.' 'Grandstand Sports & Memorabilia, Inc.'\n",
      " 'Greenfelds LLC' 'Greenpoint Avenue Realty LLC' 'GREENPOINT GROUP, LLC'\n",
      " 'Grimm Ales LLC' 'Gustav Restoration LLC' 'HALE & HEARTY SOUPS, LLC'\n",
      " 'Hall Street Storage LLC' 'HALMARK ARCHITECTUAL FINISHING'\n",
      " 'HALO  Recognition, Inc' 'Harry Brainum Jr., Inc.'\n",
      " 'HEINSEN PRODUCTS, INC.' 'HERCULES HEAT TREATING CORPORATION,'\n",
      " 'HI INTERIORS, INC.' 'Hi Tech Metals, Inc.' 'Highline Locations LLC'\n",
      " 'Hindustan Granites, Inc.' 'HIRD/BLAKER, INC.'\n",
      " 'HI-TECH RESOURCE RECOVERY' 'House of Spices (India), Inc'\n",
      " 'Hudson Moving & Storage Co., Inc.' 'HUSH Studios, Inc.' 'Hydromx, Inc.'\n",
      " 'I. AM. Malia Mills, LLC' 'Ideas by Barbara'\n",
      " 'IDL Communications and Electric, Inc' 'IEH CORPORATION'\n",
      " 'Ikea Holding U.S., Inc.' 'Inner Gaze Furniture Designs, Inc.'\n",
      " 'Insek Design' 'Iron Mountain' 'J & B Realty LLC'\n",
      " 'J & J Johnson General Contracting Co., Inc.' 'J&S LICATA BROTHERS, INC'\n",
      " 'J. Crew Group, Inc.' 'Jacques Torres Manufacturing LLC'\n",
      " 'JAMES CARPENTER DESIGN ASSOC., INC.' 'JANUS MANAGEMENT, INC.'\n",
      " 'Japanese Food Depot LLC' 'JDB Market Corp.' 'JetBlue Airways, Corp.'\n",
      " 'Jetro Cash & Carry Enterprises LLC' 'Jewels For Me, Inc.'\n",
      " 'Johnson Ingraham Associates' 'Josiah McElheny Studio'\n",
      " 'JPR Mechanical Inc.' 'JUST BAGELS/ NORDQUIST ENTERPRISES'\n",
      " 'K Line Logistics (USA) Inc' 'K M S CONTRACTING INC dba Sure Iron Works'\n",
      " 'K. K. Machine Company, Inc.' 'Karr Graphics Corp.'\n",
      " 'KAS PRODUCTION CENTER LLC' 'Katiroll Company LLC, The'\n",
      " 'KAUFMAN Astoria Studios' 'KEPCO, INC.' 'Kickstarter, PBC'\n",
      " 'Kingsland 359 LLC' 'Kintetsu World Express (U.S.A.), Inc.'\n",
      " 'Kleins Naturals Ltd.' 'KONG KEE REALTY CORP'\n",
      " 'Kopelevich & Feldsherova, PC' 'Krasnyi Oktybar, Inc.'\n",
      " 'KRINOS FOODS, INC.' 'LaFarge North America' 'Lafayette 148, Inc'\n",
      " 'LAFAYETTE GRINDING CORP.' 'LEE SPRINGS COMPANY' 'Leemor Lilly, LLC'\n",
      " 'Lida Collection, Inc.' 'Liquid 8 Technology, Inc.' 'Liquid Knits, Inc.'\n",
      " 'Livestream LLC' 'Lobonav Corp' 'Long Island Concrete, Inc.'\n",
      " \"M & R CPA's LLP\" 'M. SLAVIN & SONS, LTD.'\n",
      " 'Mack Glassnauth Iron Works, Inc.' 'MADAME PAULETTE, LIC, LLC'\n",
      " 'MADELAINE CHOCOLATE NOVELTIES, INC.' 'Magellan Aerospace New York, Inc'\n",
      " 'Marathon Energy Corp' \"Maribel's Sweets, Inc.\" 'Maric Mechanical Inc.'\n",
      " 'Marina Ice Cream Corp.' 'MARJAM SUPPLY CO., INC.'\n",
      " 'Matros Automated Electrical Const.' 'McInnis USA Inc.'\n",
      " 'Mechoshade Systems, Inc.' 'MEDITERRANEAN GYRO PRODUCTS'\n",
      " 'Mesorah Publications, Ltd & Sefercraft, Inc' 'Michael C. Fina Co, Inc'\n",
      " 'MKJ Communications, Inc' 'Modern Windor & Door, Inc.'\n",
      " 'MONDIAL AUTOMOTIVE, INC.' 'MONTEBELLO FOOD CORP'\n",
      " 'Montefiore Medical Center' 'Music Arhive Collection LLC Floor 2 and 3'\n",
      " 'MYT Works, Inc' 'National Acoustics, Inc.' 'National Bias Binding Corp.'\n",
      " 'National Leather and Shoe Findings Co.' 'Natuzzi Bros Ice Co, Inc'\n",
      " 'Neighborhood Eigth Avenue LLC' \"Neuman's Kitchen\"\n",
      " 'New Concepts of NY LLC' 'New Heydenryk, LLC'\n",
      " 'NEW PALACE PAINTERS SUPPLY CO., INC.' 'New Water Street  Corp'\n",
      " 'NEW YORK BLOOD CENTER'\n",
      " 'New York Digital Color Lithographers Printers, Inc' 'New York Fragrance'\n",
      " 'New York Insulation, Inc.' 'NEW YORKER WHOLESALE BAGELS, INC.'\n",
      " 'Noho Health, Inc' 'Nova Offset Corp' 'Novare LLC'\n",
      " 'NOVELTY CRYSTAL CORP.' 'Novo Arts Associates, Inc.' 'NULUX INDUSTRIES'\n",
      " 'NY Telephone #11194' 'Octopus Garden, Inc/Octopus Two Corp'\n",
      " 'Office 118 Equities LLC' 'Oh Nuts Warehousing, Inc.'\n",
      " 'One Girl Cookies, Ltd.' 'Other Half Brewing, Co,' 'Oven Artisans,  Inc.'\n",
      " \"Pain D'Avignon III Ltd.\" 'Paper Enterprises, Inc.'\n",
      " 'Parallel Development Ltd.' 'Parkway Equipment Handlers, Inc.'\n",
      " 'Parsons-Meares Ltd.' 'PEERLESS IMPORTERS, INC.' 'Pelican Bay Ltd.'\n",
      " 'PEPSI COLA BOTTLING CO., OF NY' 'PetCare Rx., Inc.' 'Phoenix Beverage'\n",
      " 'Picasso/Hoops, I Love New York LLC' 'Picture Farm II, LLC'\n",
      " 'Pinto & Teger Electric' 'POOK DIEMONT & OHL, INC.'\n",
      " 'Poster Printers, Inc.' 'Postmeds, Inc.' 'Premium Millwork, Inc.'\n",
      " 'Presentation Products, Inc.' 'Proxima, Inc' 'Quality Casting, Inc.'\n",
      " 'R Simon Design, Inc.' 'Rainbow Plastics, Inc.' 'Rareform Carting, Inc.'\n",
      " 'RDS Delivery Services, Co., Inc.' 'Real Coffee Roasters'\n",
      " 'Red Rabbit LLC' 'Rhonda Feinman Custom Frames, Inc.'\n",
      " 'Richards Plumbing & Heating Co., Inc.' \"ROGELIO'S WAY/DIGITAL LAUNDRY\"\n",
      " 'Rogers Surveying PLLC.' 'Rolex Watch USA, Inc.' 'Rony Elka Vardi, Inc'\n",
      " 'Roxy Paine LLC' 'ROYAL AIRLINE LAUNDRY SERVICES CORP'\n",
      " 'ROYAL DEVELOPMENT, INC.' 'Rufus Corporation'\n",
      " 'RUGUS REALTY, INC. DBA MISS GRIMBLE' 'Russ Ops LLC'\n",
      " 'RWS & Associates Entertainment' 'S&L AEROSPACE METALS LLC'\n",
      " 'Safe Art Sat, Inc.' 'Sculpture House Casting, Inc.' 'SDC Designs LLC'\n",
      " 'Sharan Builders, Inc.' 'Shloms Heimish Corp' 'SIGNS DECAL CORP.'\n",
      " 'SILLY PHILLIE CREATIONS, INC.' 'Silver Hill Atelier, LLC'\n",
      " 'SILVERCUP Services LLC' 'Silverman Ceramics, LLC/Alsio Design, LLC'\n",
      " 'SIM Digital New York' 'Simone Management Group, Inc.'\n",
      " \"SIMON''S HARDWARE\" 'Sizzal, LLC'\n",
      " 'Sky High Murals - Colossal Media, Inc.' 'Skyline Restoration, Inc.'\n",
      " 'Skyline Windows, LLC' 'SoHarlem  Inc.' 'Spaeth Design, Inc.' 'Spectrum'\n",
      " 'Spin Master, Inc.' 'Square Roots Urban Growers, Inc.' 'SSJ Contracting'\n",
      " 'SSP America, Inc.' 'STALLION, INC.' 'Stand And Build LLC'\n",
      " 'StinkDigital USA LLC' 'Studio UG' 'Sunset Park Farm LLC'\n",
      " \"SWEET SAM'S BAKING CO., LLC\" 'T & M Richardson Street LLC'\n",
      " 'T & Z Properties LLC' 'TECHNICAL LIBRARY SERVICE, INC.' 'TEI Group'\n",
      " 'The Bronx Brewery LLC' 'The Dime Savings Bank of Williamsburg'\n",
      " 'The Gluck Architectural Collaborative, P.C.'\n",
      " 'The Handy Tool & Mfg. Co., Inc.' 'The Lobster Place, Inc.'\n",
      " 'The Woodwrights' 'THEODOSIOU' 'TI Ozone Park Storage LLC'\n",
      " 'TIN SHING REALTY, INC.' 'Ti-Tone Communications, Inc.'\n",
      " 'Toner Quest, Inc.' 'Tracy Watts, Inc.'\n",
      " 'TRANSCONTINENTAL ULTRA FLEX , INC.' 'Transmitter Brewing LLC'\n",
      " 'Treasure Asset Storage LLC' 'Tristate Plumbing Services, Inc.'\n",
      " 'Tropicana Products Sales, Inc.' \"TUFO'S WHOLESALE DAIRY INC.\"\n",
      " 'Twin Marquis, Inc' 'Twoseven Inc.' 'Ulano Corporation'\n",
      " 'ULTRA CREATIVE CORP.' 'United Air Conditioning Corp'\n",
      " 'United Nations Federal Credit Union' 'Uniworld Group Inc.'\n",
      " 'Urban Archaeology, LTD' 'Urban Green LLC'\n",
      " 'USTA NATIONAL TENNIS CENTER, INC.' 'UTC Corporation' 'Valon Realty, LLC'\n",
      " 'Van Blarcom Closures Inc' 'VANBRO CORPORATION' 'VaynerMedia LLC'\n",
      " 'Vera Institute of Justice, Inc.' 'Vernon Lakes Partners'\n",
      " 'VISITING NURSE SERVICE OF NEW YORK' 'VISY PAPER RECYCLING'\n",
      " 'VIVA TIME CORP.' 'W Architecture & Landscape Architecture LLC'\n",
      " 'WALDORF BAKERY, INC. DBA MAURICE' 'WATER LILIES FOOD, INC.'\n",
      " 'WATERMARK DESIGN, LTD.' 'Weapons Specialist Ltd' 'Werwaiss & Co., Inc.'\n",
      " 'WHBI LLC' 'Whipped Pastry Boutique, Inc.' 'White Coffee Corporation'\n",
      " 'WHITEHEAD COMPANY, INC.' 'WIGGBY PRECISION MACHINE CORP.'\n",
      " 'Wild Edibles, Inc.' 'William Hird & Co., Inc.' 'Williams Sonoma, Inc.'\n",
      " 'WONTON FOOD, INC.' 'Wood Works' 'WorldWide Plumbing Supply, Inc.'\n",
      " 'WUD Furniture LLC' 'Wurtec Incorporated']\n"
     ]
    }
   ],
   "source": [
    "print(num_company)"
   ]
  },
  {
   "cell_type": "code",
   "execution_count": 19,
   "id": "b57dc7c5",
   "metadata": {},
   "outputs": [
    {
     "name": "stdout",
     "output_type": "stream",
     "text": [
      "Total number of unique company names is: 439\n"
     ]
    }
   ],
   "source": [
    "#Answered for Q1: count number of unique company names\n",
    "Q1_answer = df_energy['Company Name'].nunique()\n",
    "print(\"Total number of unique company names is:\", (Q1_answer))"
   ]
  },
  {
   "cell_type": "code",
   "execution_count": 20,
   "id": "bfa41c85",
   "metadata": {},
   "outputs": [
    {
     "data": {
      "text/plain": [
       "439"
      ]
     },
     "execution_count": 20,
     "metadata": {},
     "output_type": "execute_result"
    }
   ],
   "source": [
    "# check the total number in another way by checking the length of the array\n",
    "len(num_company)"
   ]
  },
  {
   "cell_type": "code",
   "execution_count": 21,
   "id": "1d36b9fc",
   "metadata": {},
   "outputs": [],
   "source": [
    "# Q2 What is the total number of jobs created for businesses in Queens?\n",
    "# There is a column named \"Job created\""
   ]
  },
  {
   "cell_type": "code",
   "execution_count": 22,
   "id": "2b6ee52e",
   "metadata": {},
   "outputs": [
    {
     "name": "stdout",
     "output_type": "stream",
     "text": [
      "149.0\n"
     ]
    }
   ],
   "source": [
    "#check total number of job created for all 5 borough\n",
    "job_num_sum = df_energy['Job created'].sum()\n",
    "print(job_num_sum)"
   ]
  },
  {
   "cell_type": "code",
   "execution_count": 23,
   "id": "4f5cb9ca",
   "metadata": {},
   "outputs": [
    {
     "data": {
      "text/plain": [
       "Borough\n",
       "Bronx            1\n",
       "Brooklyn         1\n",
       "New York         1\n",
       "Queens           1\n",
       "Staten Island    1\n",
       "Name: Borough, dtype: int64"
      ]
     },
     "execution_count": 23,
     "metadata": {},
     "output_type": "execute_result"
    }
   ],
   "source": [
    "#create sub df group by Borough to check data in queens data only\n",
    "df_energy_group = df_energy.groupby('Borough')\n",
    "df_energy_group['Borough'].nunique()"
   ]
  },
  {
   "cell_type": "code",
   "execution_count": 26,
   "id": "f00db8b8",
   "metadata": {},
   "outputs": [
    {
     "data": {
      "text/plain": [
       "102.0"
      ]
     },
     "execution_count": 26,
     "metadata": {},
     "output_type": "execute_result"
    }
   ],
   "source": [
    "#Answered for Q2: job created in Queens\n",
    "df_queens = df_energy_group.get_group('Queens')\n",
    "df_queens[\"Job created\"].sum()"
   ]
  },
  {
   "cell_type": "code",
   "execution_count": 27,
   "id": "56e62e8c",
   "metadata": {},
   "outputs": [
    {
     "data": {
      "text/html": [
       "<div>\n",
       "<style scoped>\n",
       "    .dataframe tbody tr th:only-of-type {\n",
       "        vertical-align: middle;\n",
       "    }\n",
       "\n",
       "    .dataframe tbody tr th {\n",
       "        vertical-align: top;\n",
       "    }\n",
       "\n",
       "    .dataframe thead th {\n",
       "        text-align: right;\n",
       "    }\n",
       "</style>\n",
       "<table border=\"1\" class=\"dataframe\">\n",
       "  <thead>\n",
       "    <tr style=\"text-align: right;\">\n",
       "      <th></th>\n",
       "      <th>Company Name</th>\n",
       "      <th>company contact</th>\n",
       "      <th>company email</th>\n",
       "      <th>company phone</th>\n",
       "      <th>Address</th>\n",
       "      <th>City</th>\n",
       "      <th>State</th>\n",
       "      <th>Postcode</th>\n",
       "      <th>Industry</th>\n",
       "      <th>Industry descr</th>\n",
       "      <th>...</th>\n",
       "      <th>Savings from beginning receiving benefits</th>\n",
       "      <th>Borough</th>\n",
       "      <th>Latitude</th>\n",
       "      <th>Longitude</th>\n",
       "      <th>Community Board</th>\n",
       "      <th>Council District</th>\n",
       "      <th>Census Tract</th>\n",
       "      <th>BIN</th>\n",
       "      <th>BBL</th>\n",
       "      <th>NTA</th>\n",
       "    </tr>\n",
       "  </thead>\n",
       "  <tbody>\n",
       "    <tr>\n",
       "      <th>6</th>\n",
       "      <td>139 ACA Realty, Inc.</td>\n",
       "      <td>Eitan Chandally</td>\n",
       "      <td>barbara@dial7.com</td>\n",
       "      <td>7187076123</td>\n",
       "      <td>43-23 35th Street</td>\n",
       "      <td>Long Island City</td>\n",
       "      <td>NY</td>\n",
       "      <td>11101</td>\n",
       "      <td>Commercial</td>\n",
       "      <td>Limousine Service</td>\n",
       "      <td>...</td>\n",
       "      <td>129401.39</td>\n",
       "      <td>Queens</td>\n",
       "      <td>40.745706</td>\n",
       "      <td>-73.929565</td>\n",
       "      <td>402.0</td>\n",
       "      <td>26.0</td>\n",
       "      <td>179.0</td>\n",
       "      <td>4003160.0</td>\n",
       "      <td>4.002220e+09</td>\n",
       "      <td>Hunters Point-Sunnyside-West Maspeth</td>\n",
       "    </tr>\n",
       "    <tr>\n",
       "      <th>8</th>\n",
       "      <td>14-10 123rd Street LLC</td>\n",
       "      <td>Danica/Ivan Drazic</td>\n",
       "      <td>ddrazic@atjelectrical.com</td>\n",
       "      <td>7183210117</td>\n",
       "      <td>14-10 123rd Street</td>\n",
       "      <td>College Point</td>\n",
       "      <td>NY</td>\n",
       "      <td>11356</td>\n",
       "      <td>Commercial</td>\n",
       "      <td>Electrical Parts Mfg.</td>\n",
       "      <td>...</td>\n",
       "      <td>28752.48</td>\n",
       "      <td>Queens</td>\n",
       "      <td>40.785144</td>\n",
       "      <td>-73.844833</td>\n",
       "      <td>407.0</td>\n",
       "      <td>19.0</td>\n",
       "      <td>929.0</td>\n",
       "      <td>4098344.0</td>\n",
       "      <td>4.040850e+09</td>\n",
       "      <td>College Point</td>\n",
       "    </tr>\n",
       "    <tr>\n",
       "      <th>12</th>\n",
       "      <td>21st Century Optics, Inc.</td>\n",
       "      <td>Ralph Woythaler</td>\n",
       "      <td>rwoythaler@21st centuryoptics.com</td>\n",
       "      <td>7183922310</td>\n",
       "      <td>47-00 33rd Street</td>\n",
       "      <td>Lond Island City</td>\n",
       "      <td>NY</td>\n",
       "      <td>11101</td>\n",
       "      <td>Manufacturing</td>\n",
       "      <td>Eye glasses</td>\n",
       "      <td>...</td>\n",
       "      <td>288983.01</td>\n",
       "      <td>Queens</td>\n",
       "      <td>40.742386</td>\n",
       "      <td>-73.932148</td>\n",
       "      <td>402.0</td>\n",
       "      <td>26.0</td>\n",
       "      <td>199.0</td>\n",
       "      <td>4003447.0</td>\n",
       "      <td>4.002520e+09</td>\n",
       "      <td>Hunters Point-Sunnyside-West Maspeth</td>\n",
       "    </tr>\n",
       "    <tr>\n",
       "      <th>14</th>\n",
       "      <td>4Over4.com</td>\n",
       "      <td>Anastasio Panagiotopolous</td>\n",
       "      <td>taso@4over4.com</td>\n",
       "      <td>7189322700</td>\n",
       "      <td>19-41 46th Street</td>\n",
       "      <td>Long Island City</td>\n",
       "      <td>NY</td>\n",
       "      <td>11105</td>\n",
       "      <td>Manufacturing</td>\n",
       "      <td>Printer</td>\n",
       "      <td>...</td>\n",
       "      <td>184923.14</td>\n",
       "      <td>Queens</td>\n",
       "      <td>40.774940</td>\n",
       "      <td>-73.896804</td>\n",
       "      <td>401.0</td>\n",
       "      <td>22.0</td>\n",
       "      <td>12301.0</td>\n",
       "      <td>4441806.0</td>\n",
       "      <td>4.007740e+09</td>\n",
       "      <td>Steinway</td>\n",
       "    </tr>\n",
       "    <tr>\n",
       "      <th>15</th>\n",
       "      <td>538-540 West 35 Corp</td>\n",
       "      <td>Richard Silver</td>\n",
       "      <td>tankman220@aol.com</td>\n",
       "      <td>2127366618</td>\n",
       "      <td>11-42 46th Road</td>\n",
       "      <td>Queens</td>\n",
       "      <td>NY</td>\n",
       "      <td>11101</td>\n",
       "      <td>Manufacturing</td>\n",
       "      <td>steel, wood &amp; cement tanks</td>\n",
       "      <td>...</td>\n",
       "      <td>56744.11</td>\n",
       "      <td>Queens</td>\n",
       "      <td>40.745510</td>\n",
       "      <td>-73.949497</td>\n",
       "      <td>402.0</td>\n",
       "      <td>26.0</td>\n",
       "      <td>7.0</td>\n",
       "      <td>4436616.0</td>\n",
       "      <td>4.000560e+09</td>\n",
       "      <td>Hunters Point-Sunnyside-West Maspeth</td>\n",
       "    </tr>\n",
       "  </tbody>\n",
       "</table>\n",
       "<p>5 rows × 26 columns</p>\n",
       "</div>"
      ],
      "text/plain": [
       "                 Company Name            company contact  \\\n",
       "6        139 ACA Realty, Inc.            Eitan Chandally   \n",
       "8      14-10 123rd Street LLC         Danica/Ivan Drazic   \n",
       "12  21st Century Optics, Inc.            Ralph Woythaler   \n",
       "14                 4Over4.com  Anastasio Panagiotopolous   \n",
       "15       538-540 West 35 Corp             Richard Silver   \n",
       "\n",
       "                        company email company phone             Address  \\\n",
       "6                   barbara@dial7.com    7187076123   43-23 35th Street   \n",
       "8           ddrazic@atjelectrical.com    7183210117  14-10 123rd Street   \n",
       "12  rwoythaler@21st centuryoptics.com    7183922310   47-00 33rd Street   \n",
       "14                    taso@4over4.com    7189322700   19-41 46th Street   \n",
       "15                 tankman220@aol.com    2127366618     11-42 46th Road   \n",
       "\n",
       "                City State  Postcode       Industry  \\\n",
       "6   Long Island City    NY     11101     Commercial   \n",
       "8      College Point    NY     11356     Commercial   \n",
       "12  Lond Island City    NY     11101  Manufacturing   \n",
       "14  Long Island City    NY     11105  Manufacturing   \n",
       "15            Queens    NY     11101  Manufacturing   \n",
       "\n",
       "                Industry descr  ... Savings from beginning receiving benefits  \\\n",
       "6            Limousine Service  ...                                 129401.39   \n",
       "8        Electrical Parts Mfg.  ...                                  28752.48   \n",
       "12                 Eye glasses  ...                                 288983.01   \n",
       "14                     Printer  ...                                 184923.14   \n",
       "15  steel, wood & cement tanks  ...                                  56744.11   \n",
       "\n",
       "    Borough   Latitude  Longitude Community Board  Council District  \\\n",
       "6    Queens  40.745706 -73.929565           402.0              26.0   \n",
       "8    Queens  40.785144 -73.844833           407.0              19.0   \n",
       "12   Queens  40.742386 -73.932148           402.0              26.0   \n",
       "14   Queens  40.774940 -73.896804           401.0              22.0   \n",
       "15   Queens  40.745510 -73.949497           402.0              26.0   \n",
       "\n",
       "    Census Tract        BIN           BBL  \\\n",
       "6          179.0  4003160.0  4.002220e+09   \n",
       "8          929.0  4098344.0  4.040850e+09   \n",
       "12         199.0  4003447.0  4.002520e+09   \n",
       "14       12301.0  4441806.0  4.007740e+09   \n",
       "15           7.0  4436616.0  4.000560e+09   \n",
       "\n",
       "                                     NTA  \n",
       "6   Hunters Point-Sunnyside-West Maspeth  \n",
       "8                          College Point  \n",
       "12  Hunters Point-Sunnyside-West Maspeth  \n",
       "14                              Steinway  \n",
       "15  Hunters Point-Sunnyside-West Maspeth  \n",
       "\n",
       "[5 rows x 26 columns]"
      ]
     },
     "execution_count": 27,
     "metadata": {},
     "output_type": "execute_result"
    }
   ],
   "source": [
    "df_queens.head(5)"
   ]
  },
  {
   "cell_type": "code",
   "execution_count": 28,
   "id": "047f1cb3",
   "metadata": {},
   "outputs": [
    {
     "data": {
      "text/html": [
       "<div>\n",
       "<style scoped>\n",
       "    .dataframe tbody tr th:only-of-type {\n",
       "        vertical-align: middle;\n",
       "    }\n",
       "\n",
       "    .dataframe tbody tr th {\n",
       "        vertical-align: top;\n",
       "    }\n",
       "\n",
       "    .dataframe thead th {\n",
       "        text-align: right;\n",
       "    }\n",
       "</style>\n",
       "<table border=\"1\" class=\"dataframe\">\n",
       "  <thead>\n",
       "    <tr style=\"text-align: right;\">\n",
       "      <th></th>\n",
       "      <th>sum</th>\n",
       "    </tr>\n",
       "    <tr>\n",
       "      <th>Borough</th>\n",
       "      <th></th>\n",
       "    </tr>\n",
       "  </thead>\n",
       "  <tbody>\n",
       "    <tr>\n",
       "      <th>Bronx</th>\n",
       "      <td>22.0</td>\n",
       "    </tr>\n",
       "    <tr>\n",
       "      <th>Brooklyn</th>\n",
       "      <td>25.0</td>\n",
       "    </tr>\n",
       "    <tr>\n",
       "      <th>New York</th>\n",
       "      <td>0.0</td>\n",
       "    </tr>\n",
       "    <tr>\n",
       "      <th>Queens</th>\n",
       "      <td>102.0</td>\n",
       "    </tr>\n",
       "    <tr>\n",
       "      <th>Staten Island</th>\n",
       "      <td>0.0</td>\n",
       "    </tr>\n",
       "  </tbody>\n",
       "</table>\n",
       "</div>"
      ],
      "text/plain": [
       "                 sum\n",
       "Borough             \n",
       "Bronx           22.0\n",
       "Brooklyn        25.0\n",
       "New York         0.0\n",
       "Queens         102.0\n",
       "Staten Island    0.0"
      ]
     },
     "execution_count": 28,
     "metadata": {},
     "output_type": "execute_result"
    }
   ],
   "source": [
    "#Check the job create in each borough in df\n",
    "df_sumjob_borough = df_energy.groupby('Borough')['Job created'].agg([np.sum])\n",
    "df_sumjob_borough"
   ]
  },
  {
   "cell_type": "code",
   "execution_count": null,
   "id": "5291f0ce",
   "metadata": {},
   "outputs": [],
   "source": [
    "#Q3 How many different unique email domains names are there in the data set?"
   ]
  },
  {
   "cell_type": "code",
   "execution_count": 29,
   "id": "864fb3ae",
   "metadata": {},
   "outputs": [
    {
     "data": {
      "text/plain": [
       "Index(['Company Name', 'company contact', 'company email', 'company phone',\n",
       "       'Address', 'City', 'State', 'Postcode', 'Industry', 'Industry descr',\n",
       "       'Company Type', 'Current fulltime', 'Job created', 'Job retain',\n",
       "       'Effective Date', 'Total Savings',\n",
       "       'Savings from beginning receiving benefits', 'Borough', 'Latitude',\n",
       "       'Longitude', 'Community Board', 'Council District', 'Census Tract',\n",
       "       'BIN', 'BBL', 'NTA'],\n",
       "      dtype='object')"
      ]
     },
     "execution_count": 29,
     "metadata": {},
     "output_type": "execute_result"
    }
   ],
   "source": [
    "# check how many different columns in the dataset\n",
    "df_energy.columns"
   ]
  },
  {
   "cell_type": "code",
   "execution_count": 30,
   "id": "cb283089",
   "metadata": {},
   "outputs": [
    {
     "data": {
      "text/plain": [
       "gkesner@silvercupstudios.com    3\n",
       "sam.adamson@fedex.com           3\n",
       "Dave.Barger.@Jetblue.com        2\n",
       "Eskoblo@energyspec.com          2\n",
       "hollyp@spinmaster.com           2\n",
       "                               ..\n",
       "dmiller@empressmam.com          1\n",
       "adamp@emgmediainc.com           1\n",
       "eprice@epl.com                  1\n",
       "suri@eclecticprops.com          1\n",
       "bill.popp@wurtec.com            1\n",
       "Name: company email, Length: 420, dtype: int64"
      ]
     },
     "execution_count": 30,
     "metadata": {},
     "output_type": "execute_result"
    }
   ],
   "source": [
    "df_energy['company email'].value_counts()"
   ]
  },
  {
   "cell_type": "code",
   "execution_count": 31,
   "id": "8e3a9c65",
   "metadata": {},
   "outputs": [],
   "source": [
    "email_list = df_energy['company email'].dropna().unique()"
   ]
  },
  {
   "cell_type": "code",
   "execution_count": 33,
   "id": "e5d6a99f",
   "metadata": {},
   "outputs": [
    {
     "data": {
      "text/plain": [
       "array(['eskoblo@energyspec.com', 'akimball@industrycity.com',\n",
       "       'clettich@silvprop.com', 'jmccalla@silvprop.com',\n",
       "       'barbara@dial7.com'], dtype=object)"
      ]
     },
     "execution_count": 33,
     "metadata": {},
     "output_type": "execute_result"
    }
   ],
   "source": [
    "email_list[0:5]"
   ]
  },
  {
   "cell_type": "code",
   "execution_count": 34,
   "id": "4a2bc38d",
   "metadata": {},
   "outputs": [
    {
     "data": {
      "text/plain": [
       "'energyspec.com'"
      ]
     },
     "execution_count": 34,
     "metadata": {},
     "output_type": "execute_result"
    }
   ],
   "source": [
    "#test how to get domin name only\n",
    "email_list[0].split('@')[-1]\n"
   ]
  },
  {
   "cell_type": "code",
   "execution_count": 89,
   "id": "320d06b3",
   "metadata": {},
   "outputs": [],
   "source": [
    "\n",
    "           "
   ]
  },
  {
   "cell_type": "code",
   "execution_count": 36,
   "id": "52c10ec0",
   "metadata": {},
   "outputs": [],
   "source": [
    "email_list_cp = email_list\n",
    "\n",
    "def email_domin(elist):\n",
    "    domin_list = elist\n",
    "    for i in range(len(elist)):\n",
    "        tempmail = domin_list[i]\n",
    "        tempmail = tempmail.split('@')[-1]\n",
    "        domin_list[i] = tempmail\n",
    "    return domin_list\n",
    "\n",
    "email_list_domain = email_domin(email_list)"
   ]
  },
  {
   "cell_type": "code",
   "execution_count": 37,
   "id": "304a5768",
   "metadata": {},
   "outputs": [
    {
     "data": {
      "text/plain": [
       "array(['energyspec.com', 'industrycity.com', 'silvprop.com',\n",
       "       'silvprop.com', 'dial7.com'], dtype=object)"
      ]
     },
     "execution_count": 37,
     "metadata": {},
     "output_type": "execute_result"
    }
   ],
   "source": [
    "email_list_domain[0:5]"
   ]
  },
  {
   "cell_type": "code",
   "execution_count": 40,
   "id": "68ed465f",
   "metadata": {},
   "outputs": [
    {
     "name": "stdout",
     "output_type": "stream",
     "text": [
      "Total number of unique value of email domin is: 361\n"
     ]
    }
   ],
   "source": [
    "# get the total number of unique value of email domin, Q3 answered\n",
    "q3_answer = len(np.unique(email_list_domain))\n",
    "\n",
    "print(\"Total number of unique value of email domin is:\",q3_answer)"
   ]
  },
  {
   "cell_type": "code",
   "execution_count": null,
   "id": "384820ae",
   "metadata": {},
   "outputs": [],
   "source": [
    "#Q4:\n",
    "#Considering only NTAs with at least 5 listed businesses, \n",
    "#what is the average total savings and the total jobs created for each NTA?"
   ]
  },
  {
   "cell_type": "code",
   "execution_count": 41,
   "id": "d6e01b36",
   "metadata": {},
   "outputs": [
    {
     "data": {
      "text/plain": [
       "Hunters Point-Sunnyside-West Maspeth                75.0\n",
       "Sunset Park West                                    48.0\n",
       "Queensbridge-Ravenswood-Long Island City            16.0\n",
       "park-cemetery-etc-Brooklyn                          15.0\n",
       "Greenpoint                                          14.0\n",
       "Mott Haven-Port Morris                              14.0\n",
       "Hunts Point                                         13.0\n",
       "East Williamsburg                                   11.0\n",
       "Carroll Gardens-Columbia Street-Red Hook            11.0\n",
       "Bushwick South                                      10.0\n",
       "DUMBO-Vinegar Hill-Downtown Brooklyn-Boerum Hill    10.0\n",
       "East New York                                        9.0\n",
       "Maspeth                                              9.0\n",
       "Crown Heights North                                  9.0\n",
       "Manhattanville                                       9.0\n",
       "Battery Park City-Lower Manhattan                    9.0\n",
       "Steinway                                             7.0\n",
       "College Point                                        7.0\n",
       "Springfield Gardens South-Brookville                 5.0\n",
       "SoHo-TriBeCa-Civic Center-Little Italy               5.0\n",
       "Name: NTA, dtype: float64"
      ]
     },
     "execution_count": 41,
     "metadata": {},
     "output_type": "execute_result"
    }
   ],
   "source": [
    "#create S2 series that contains only NTA which has more than at least 5 business associated\n",
    "s1 = df_energy['NTA'].value_counts()\n",
    "s2 = pd.Series(s1).where(lambda x : x >= 5).dropna()\n",
    "s2"
   ]
  },
  {
   "cell_type": "code",
   "execution_count": 42,
   "id": "e2d35158",
   "metadata": {},
   "outputs": [],
   "source": [
    "s2_index = s2.index"
   ]
  },
  {
   "cell_type": "code",
   "execution_count": 44,
   "id": "a5af7c96",
   "metadata": {},
   "outputs": [],
   "source": [
    "df_NTA = df_energy.groupby('NTA')"
   ]
  },
  {
   "cell_type": "code",
   "execution_count": 45,
   "id": "3d5a7cac",
   "metadata": {},
   "outputs": [],
   "source": [
    "#df_NTA_1 is the data frame that include only NTA from S2 series\n",
    "df_NTA_1 = df_energy[df_energy['NTA'].isin(s2_index)]\n"
   ]
  },
  {
   "cell_type": "code",
   "execution_count": 120,
   "id": "580ad8a9",
   "metadata": {},
   "outputs": [],
   "source": [
    "# lambda method, can't figure out X.NTA\n",
    "# df_NTA_1 = df_energy.loc[df_energy.apply(lambda x: x['NTA'] in s2_index)]"
   ]
  },
  {
   "cell_type": "code",
   "execution_count": 47,
   "id": "d87c4071",
   "metadata": {},
   "outputs": [
    {
     "data": {
      "text/plain": [
       "True"
      ]
     },
     "execution_count": 47,
     "metadata": {},
     "output_type": "execute_result"
    }
   ],
   "source": [
    "# check if df_NTA_1 matches the s2_index\n",
    "df_NTA_1['NTA'].nunique() == len(s2_index)"
   ]
  },
  {
   "cell_type": "code",
   "execution_count": null,
   "id": "50f44505",
   "metadata": {},
   "outputs": [],
   "source": [
    "#Q4 what is the average total savings and the total jobs created for each NTA?"
   ]
  },
  {
   "cell_type": "code",
   "execution_count": 48,
   "id": "9d661992",
   "metadata": {},
   "outputs": [
    {
     "data": {
      "text/plain": [
       "NTA\n",
       "Battery Park City-Lower Manhattan                    0.0\n",
       "Bushwick South                                      10.0\n",
       "Carroll Gardens-Columbia Street-Red Hook             0.0\n",
       "College Point                                        2.0\n",
       "Crown Heights North                                  0.0\n",
       "DUMBO-Vinegar Hill-Downtown Brooklyn-Boerum Hill     0.0\n",
       "East New York                                       15.0\n",
       "East Williamsburg                                    0.0\n",
       "Greenpoint                                           0.0\n",
       "Hunters Point-Sunnyside-West Maspeth                 0.0\n",
       "Hunts Point                                         12.0\n",
       "Manhattanville                                       0.0\n",
       "Maspeth                                             10.0\n",
       "Mott Haven-Port Morris                              10.0\n",
       "Queensbridge-Ravenswood-Long Island City             0.0\n",
       "SoHo-TriBeCa-Civic Center-Little Italy               0.0\n",
       "Springfield Gardens South-Brookville                 0.0\n",
       "Steinway                                            20.0\n",
       "Sunset Park West                                     0.0\n",
       "park-cemetery-etc-Brooklyn                           0.0\n",
       "Name: Job created, dtype: float64"
      ]
     },
     "execution_count": 48,
     "metadata": {},
     "output_type": "execute_result"
    }
   ],
   "source": [
    "#Q4S3 shows the total jobs created for each NTA, all NTA listed below has at least 5 business\n",
    "Q4S3 = df_NTA_1.groupby('NTA')['Job created'].sum()\n",
    "Q4S3"
   ]
  },
  {
   "cell_type": "code",
   "execution_count": 49,
   "id": "893a7e69",
   "metadata": {},
   "outputs": [
    {
     "data": {
      "text/plain": [
       "NTA\n",
       "Battery Park City-Lower Manhattan                   469890.796667\n",
       "Bushwick South                                       26140.455000\n",
       "Carroll Gardens-Columbia Street-Red Hook             24337.390000\n",
       "College Point                                        17159.372857\n",
       "Crown Heights North                                   4036.298889\n",
       "DUMBO-Vinegar Hill-Downtown Brooklyn-Boerum Hill     59950.340000\n",
       "East New York                                        48433.093333\n",
       "East Williamsburg                                    13990.626364\n",
       "Greenpoint                                            9753.649286\n",
       "Hunters Point-Sunnyside-West Maspeth                 23931.398933\n",
       "Hunts Point                                          39246.016154\n",
       "Manhattanville                                        2760.888889\n",
       "Maspeth                                               6658.283333\n",
       "Mott Haven-Port Morris                               17843.937857\n",
       "Queensbridge-Ravenswood-Long Island City             61830.770625\n",
       "SoHo-TriBeCa-Civic Center-Little Italy               37214.024000\n",
       "Springfield Gardens South-Brookville                 17757.662000\n",
       "Steinway                                             11227.155714\n",
       "Sunset Park West                                     14316.976875\n",
       "park-cemetery-etc-Brooklyn                           14327.419333\n",
       "Name: Total Savings, dtype: float64"
      ]
     },
     "execution_count": 49,
     "metadata": {},
     "output_type": "execute_result"
    }
   ],
   "source": [
    "#Q4S1 shows the average Total Saving for each NTA, all NTA listed below has at least 5 business\n",
    "Q4S1 = df_NTA_1.groupby('NTA')['Total Savings'].mean()\n",
    "Q4S1"
   ]
  },
  {
   "cell_type": "code",
   "execution_count": 51,
   "id": "24015001",
   "metadata": {
    "scrolled": true
   },
   "outputs": [
    {
     "name": "stderr",
     "output_type": "stream",
     "text": [
      "C:\\Users\\rayno\\AppData\\Local\\Temp\\ipykernel_7596\\3888834903.py:2: SettingWithCopyWarning: \n",
      "A value is trying to be set on a copy of a slice from a DataFrame.\n",
      "Try using .loc[row_indexer,col_indexer] = value instead\n",
      "\n",
      "See the caveats in the documentation: https://pandas.pydata.org/pandas-docs/stable/user_guide/indexing.html#returning-a-view-versus-a-copy\n",
      "  df_NTA_1['Job created'] = df_NTA_1['Job created'].fillna(0)\n"
     ]
    }
   ],
   "source": [
    "# assume job created \"NAN\" value means 0 job created\n",
    "df_NTA_1['Job created'] = df_NTA_1['Job created'].fillna(0)"
   ]
  },
  {
   "cell_type": "code",
   "execution_count": 52,
   "id": "e9b16c4e",
   "metadata": {},
   "outputs": [
    {
     "data": {
      "text/plain": [
       "NTA\n",
       "Battery Park City-Lower Manhattan                   0.000000\n",
       "Bushwick South                                      1.000000\n",
       "Carroll Gardens-Columbia Street-Red Hook            0.000000\n",
       "College Point                                       0.285714\n",
       "Crown Heights North                                 0.000000\n",
       "DUMBO-Vinegar Hill-Downtown Brooklyn-Boerum Hill    0.000000\n",
       "East New York                                       1.666667\n",
       "East Williamsburg                                   0.000000\n",
       "Greenpoint                                          0.000000\n",
       "Hunters Point-Sunnyside-West Maspeth                0.000000\n",
       "Hunts Point                                         0.923077\n",
       "Manhattanville                                      0.000000\n",
       "Maspeth                                             1.111111\n",
       "Mott Haven-Port Morris                              0.714286\n",
       "Queensbridge-Ravenswood-Long Island City            0.000000\n",
       "SoHo-TriBeCa-Civic Center-Little Italy              0.000000\n",
       "Springfield Gardens South-Brookville                0.000000\n",
       "Steinway                                            2.857143\n",
       "Sunset Park West                                    0.000000\n",
       "park-cemetery-etc-Brooklyn                          0.000000\n",
       "Name: Job created, dtype: float64"
      ]
     },
     "execution_count": 52,
     "metadata": {},
     "output_type": "execute_result"
    }
   ],
   "source": [
    "#Q4S2 shows the average job created for each NTA, all NTA listed below has at least 5 business\n",
    "Q4S2= df_NTA_1.groupby('NTA')['Job created'].mean()\n",
    "Q4S2"
   ]
  },
  {
   "cell_type": "code",
   "execution_count": null,
   "id": "ae562221",
   "metadata": {},
   "outputs": [],
   "source": [
    "# Q5scatter plot of jobs created versus average savings\n",
    "# Use both a standard and a logarithmic scale for the average savings."
   ]
  },
  {
   "cell_type": "code",
   "execution_count": 53,
   "id": "fa2ad54c",
   "metadata": {},
   "outputs": [
    {
     "data": {
      "text/plain": [
       "Index(['Company Name', 'company contact', 'company email', 'company phone',\n",
       "       'Address', 'City', 'State', 'Postcode', 'Industry', 'Industry descr',\n",
       "       'Company Type', 'Current fulltime', 'Job created', 'Job retain',\n",
       "       'Effective Date', 'Total Savings',\n",
       "       'Savings from beginning receiving benefits', 'Borough', 'Latitude',\n",
       "       'Longitude', 'Community Board', 'Council District', 'Census Tract',\n",
       "       'BIN', 'BBL', 'NTA'],\n",
       "      dtype='object')"
      ]
     },
     "execution_count": 53,
     "metadata": {},
     "output_type": "execute_result"
    }
   ],
   "source": [
    "df_energy.columns"
   ]
  },
  {
   "cell_type": "code",
   "execution_count": null,
   "id": "bf94187f",
   "metadata": {},
   "outputs": [],
   "source": [
    "# Q4S3 = df_NTA_1.groupby('NTA')['Job created'].sum()\n",
    "# Q4S3 is the total of job created, categoried by NTA\n",
    "# Q4S1 = df_NTA_1.groupby('NTA')['Total Savings'].mean()\n",
    "# Q4S1 is the average saving, categroied by NTA"
   ]
  },
  {
   "cell_type": "code",
   "execution_count": 76,
   "id": "9e7398ce",
   "metadata": {},
   "outputs": [
    {
     "data": {
      "text/html": [
       "<div>\n",
       "<style scoped>\n",
       "    .dataframe tbody tr th:only-of-type {\n",
       "        vertical-align: middle;\n",
       "    }\n",
       "\n",
       "    .dataframe tbody tr th {\n",
       "        vertical-align: top;\n",
       "    }\n",
       "\n",
       "    .dataframe thead th {\n",
       "        text-align: right;\n",
       "    }\n",
       "</style>\n",
       "<table border=\"1\" class=\"dataframe\">\n",
       "  <thead>\n",
       "    <tr style=\"text-align: right;\">\n",
       "      <th></th>\n",
       "      <th>NTA</th>\n",
       "      <th>Job created</th>\n",
       "    </tr>\n",
       "  </thead>\n",
       "  <tbody>\n",
       "    <tr>\n",
       "      <th>0</th>\n",
       "      <td>Battery Park City-Lower Manhattan</td>\n",
       "      <td>0.0</td>\n",
       "    </tr>\n",
       "    <tr>\n",
       "      <th>1</th>\n",
       "      <td>Bushwick South</td>\n",
       "      <td>10.0</td>\n",
       "    </tr>\n",
       "    <tr>\n",
       "      <th>2</th>\n",
       "      <td>Carroll Gardens-Columbia Street-Red Hook</td>\n",
       "      <td>0.0</td>\n",
       "    </tr>\n",
       "    <tr>\n",
       "      <th>3</th>\n",
       "      <td>College Point</td>\n",
       "      <td>2.0</td>\n",
       "    </tr>\n",
       "    <tr>\n",
       "      <th>4</th>\n",
       "      <td>Crown Heights North</td>\n",
       "      <td>0.0</td>\n",
       "    </tr>\n",
       "  </tbody>\n",
       "</table>\n",
       "</div>"
      ],
      "text/plain": [
       "                                        NTA  Job created\n",
       "0         Battery Park City-Lower Manhattan          0.0\n",
       "1                            Bushwick South         10.0\n",
       "2  Carroll Gardens-Columbia Street-Red Hook          0.0\n",
       "3                             College Point          2.0\n",
       "4                       Crown Heights North          0.0"
      ]
     },
     "execution_count": 76,
     "metadata": {},
     "output_type": "execute_result"
    }
   ],
   "source": [
    "df1=pd.DataFrame(Q4S3)\n",
    "df1 = df1.reset_index()\n",
    "df1.head()"
   ]
  },
  {
   "cell_type": "code",
   "execution_count": 77,
   "id": "36e5d76c",
   "metadata": {
    "scrolled": true
   },
   "outputs": [
    {
     "data": {
      "text/html": [
       "<div>\n",
       "<style scoped>\n",
       "    .dataframe tbody tr th:only-of-type {\n",
       "        vertical-align: middle;\n",
       "    }\n",
       "\n",
       "    .dataframe tbody tr th {\n",
       "        vertical-align: top;\n",
       "    }\n",
       "\n",
       "    .dataframe thead th {\n",
       "        text-align: right;\n",
       "    }\n",
       "</style>\n",
       "<table border=\"1\" class=\"dataframe\">\n",
       "  <thead>\n",
       "    <tr style=\"text-align: right;\">\n",
       "      <th></th>\n",
       "      <th>NTA</th>\n",
       "      <th>Average Saving</th>\n",
       "    </tr>\n",
       "  </thead>\n",
       "  <tbody>\n",
       "    <tr>\n",
       "      <th>0</th>\n",
       "      <td>Battery Park City-Lower Manhattan</td>\n",
       "      <td>469890.796667</td>\n",
       "    </tr>\n",
       "    <tr>\n",
       "      <th>1</th>\n",
       "      <td>Bushwick South</td>\n",
       "      <td>26140.455000</td>\n",
       "    </tr>\n",
       "    <tr>\n",
       "      <th>2</th>\n",
       "      <td>Carroll Gardens-Columbia Street-Red Hook</td>\n",
       "      <td>24337.390000</td>\n",
       "    </tr>\n",
       "    <tr>\n",
       "      <th>3</th>\n",
       "      <td>College Point</td>\n",
       "      <td>17159.372857</td>\n",
       "    </tr>\n",
       "    <tr>\n",
       "      <th>4</th>\n",
       "      <td>Crown Heights North</td>\n",
       "      <td>4036.298889</td>\n",
       "    </tr>\n",
       "  </tbody>\n",
       "</table>\n",
       "</div>"
      ],
      "text/plain": [
       "                                        NTA  Average Saving\n",
       "0         Battery Park City-Lower Manhattan   469890.796667\n",
       "1                            Bushwick South    26140.455000\n",
       "2  Carroll Gardens-Columbia Street-Red Hook    24337.390000\n",
       "3                             College Point    17159.372857\n",
       "4                       Crown Heights North     4036.298889"
      ]
     },
     "execution_count": 77,
     "metadata": {},
     "output_type": "execute_result"
    }
   ],
   "source": [
    "df2=pd.DataFrame(Q4S1)\n",
    "df2 = df2.reset_index()\n",
    "df2 = df2.rename(columns={'Total Savings':'Average Saving'})\n",
    "df2.head()"
   ]
  },
  {
   "cell_type": "code",
   "execution_count": 78,
   "id": "5acf0568",
   "metadata": {},
   "outputs": [
    {
     "data": {
      "text/html": [
       "<div>\n",
       "<style scoped>\n",
       "    .dataframe tbody tr th:only-of-type {\n",
       "        vertical-align: middle;\n",
       "    }\n",
       "\n",
       "    .dataframe tbody tr th {\n",
       "        vertical-align: top;\n",
       "    }\n",
       "\n",
       "    .dataframe thead th {\n",
       "        text-align: right;\n",
       "    }\n",
       "</style>\n",
       "<table border=\"1\" class=\"dataframe\">\n",
       "  <thead>\n",
       "    <tr style=\"text-align: right;\">\n",
       "      <th></th>\n",
       "      <th>NTA</th>\n",
       "      <th>Job created</th>\n",
       "      <th>Average Saving</th>\n",
       "    </tr>\n",
       "  </thead>\n",
       "  <tbody>\n",
       "    <tr>\n",
       "      <th>0</th>\n",
       "      <td>Battery Park City-Lower Manhattan</td>\n",
       "      <td>0.0</td>\n",
       "      <td>469890.796667</td>\n",
       "    </tr>\n",
       "    <tr>\n",
       "      <th>1</th>\n",
       "      <td>Bushwick South</td>\n",
       "      <td>10.0</td>\n",
       "      <td>26140.455000</td>\n",
       "    </tr>\n",
       "    <tr>\n",
       "      <th>2</th>\n",
       "      <td>Carroll Gardens-Columbia Street-Red Hook</td>\n",
       "      <td>0.0</td>\n",
       "      <td>24337.390000</td>\n",
       "    </tr>\n",
       "    <tr>\n",
       "      <th>3</th>\n",
       "      <td>College Point</td>\n",
       "      <td>2.0</td>\n",
       "      <td>17159.372857</td>\n",
       "    </tr>\n",
       "    <tr>\n",
       "      <th>4</th>\n",
       "      <td>Crown Heights North</td>\n",
       "      <td>0.0</td>\n",
       "      <td>4036.298889</td>\n",
       "    </tr>\n",
       "  </tbody>\n",
       "</table>\n",
       "</div>"
      ],
      "text/plain": [
       "                                        NTA  Job created  Average Saving\n",
       "0         Battery Park City-Lower Manhattan          0.0   469890.796667\n",
       "1                            Bushwick South         10.0    26140.455000\n",
       "2  Carroll Gardens-Columbia Street-Red Hook          0.0    24337.390000\n",
       "3                             College Point          2.0    17159.372857\n",
       "4                       Crown Heights North          0.0     4036.298889"
      ]
     },
     "execution_count": 78,
     "metadata": {},
     "output_type": "execute_result"
    }
   ],
   "source": [
    "df_plot_1 = pd.merge(df1,df2, on='NTA')\n",
    "df_plot_1.head()"
   ]
  },
  {
   "cell_type": "code",
   "execution_count": 79,
   "id": "9088a1a8",
   "metadata": {},
   "outputs": [
    {
     "data": {
      "text/plain": [
       "Text(0.5, 1.0, 'Average Saving VS Job Created')"
      ]
     },
     "execution_count": 79,
     "metadata": {},
     "output_type": "execute_result"
    },
    {
     "data": {
      "image/png": "[encoded data removed]",
      "text/plain": [
       "<Figure size 432x288 with 1 Axes>"
      ]
     },
     "metadata": {
      "needs_background": "light"
     },
     "output_type": "display_data"
    }
   ],
   "source": [
    "#Considering only NTAs with at least 5 listed businesses\n",
    "\n",
    "sns.scatterplot(x='Average Saving', y='Job created', data=df_plot_1, marker='+')\n",
    "x=np.linspace(0,500000,1000)\n",
    "x=np.linspace(0,30,2)\n",
    "\n",
    "\n",
    "#formatting\n",
    "plt.xlabel('Average Saving for each NTA')\n",
    "plt.ylabel('Job Created for each NTA')\n",
    "plt.title('Average Saving VS Job Created')"
   ]
  },
  {
   "cell_type": "code",
   "execution_count": 80,
   "id": "5a189847",
   "metadata": {},
   "outputs": [],
   "source": [
    "# histogram of the log of the average total savings."
   ]
  },
  {
   "cell_type": "code",
   "execution_count": 81,
   "id": "4411b81d",
   "metadata": {},
   "outputs": [
    {
     "data": {
      "image/png": "[encoded data removed]",
      "text/plain": [
       "<Figure size 432x288 with 1 Axes>"
      ]
     },
     "metadata": {
      "needs_background": "light"
     },
     "output_type": "display_data"
    }
   ],
   "source": [
    "sns.barplot(x=df_plot_1['Average Saving'], y=df_plot_1['NTA'], color= 'c')\n",
    "\n",
    "# Add some formatting to the plot:\n",
    "plt.xlabel('list of NTA')\n",
    "plt.ylabel('Average Savings')\n",
    "plt.title('Log of average total saving by NTA');"
   ]
  },
  {
   "cell_type": "code",
   "execution_count": 82,
   "id": "cfdba250",
   "metadata": {},
   "outputs": [
    {
     "data": {
      "image/png": "[encoded data removed]",
      "text/plain": [
       "<Figure size 432x288 with 1 Axes>"
      ]
     },
     "metadata": {
      "needs_background": "light"
     },
     "output_type": "display_data"
    }
   ],
   "source": [
    "#histogram shows the average total savings and y axis is number of certain x axis value observed\n",
    "plt.hist(df_plot_1['Average Saving'], bins=32)\n",
    "x=np.linspace(0,600000,500)\n",
    "y=np.linspace(0,20,1)\n",
    "# Add some formatting to the plot:\n",
    "plt.xlabel('Average Saving')\n",
    "plt.ylabel('Number of obversation')\n",
    "plt.title('Histogram for Average Saving');"
   ]
  },
  {
   "cell_type": "code",
   "execution_count": 83,
   "id": "22b0fa4a",
   "metadata": {},
   "outputs": [],
   "source": [
    "#line plot of the total jobs created for each month."
   ]
  },
  {
   "cell_type": "code",
   "execution_count": 84,
   "id": "d1e89e08",
   "metadata": {},
   "outputs": [
    {
     "data": {
      "text/plain": [
       "<pandas.core.groupby.generic.SeriesGroupBy object at 0x000002327775EE30>"
      ]
     },
     "execution_count": 84,
     "metadata": {},
     "output_type": "execute_result"
    }
   ],
   "source": [
    "Q4ST = df_NTA_1.groupby('NTA')['Effective Date']\n",
    "Q4ST"
   ]
  },
  {
   "cell_type": "code",
   "execution_count": 85,
   "id": "634b40ac",
   "metadata": {},
   "outputs": [
    {
     "data": {
      "text/plain": [
       "1     2020-04-02\n",
       "2     2020-01-05\n",
       "3     2020-02-03\n",
       "4     2020-06-30\n",
       "5     2020-07-02\n",
       "         ...    \n",
       "443   2020-07-11\n",
       "444   2020-08-06\n",
       "445   2020-12-09\n",
       "446   2020-12-05\n",
       "448   2020-01-26\n",
       "Name: Effective Date, Length: 306, dtype: datetime64[ns]"
      ]
     },
     "execution_count": 85,
     "metadata": {},
     "output_type": "execute_result"
    }
   ],
   "source": [
    "# existing \"effective date\" column contains info in str, needs to convert it into time series\n",
    "df_NTA_1['Effective Date']"
   ]
  },
  {
   "cell_type": "code",
   "execution_count": 86,
   "id": "00c87d11",
   "metadata": {},
   "outputs": [],
   "source": [
    "from datetime import datetime"
   ]
  },
  {
   "cell_type": "code",
   "execution_count": 87,
   "id": "ddece95f",
   "metadata": {
    "scrolled": true
   },
   "outputs": [
    {
     "name": "stderr",
     "output_type": "stream",
     "text": [
      "C:\\Users\\rayno\\AppData\\Local\\Temp\\ipykernel_7596\\1627472817.py:1: SettingWithCopyWarning: \n",
      "A value is trying to be set on a copy of a slice from a DataFrame.\n",
      "Try using .loc[row_indexer,col_indexer] = value instead\n",
      "\n",
      "See the caveats in the documentation: https://pandas.pydata.org/pandas-docs/stable/user_guide/indexing.html#returning-a-view-versus-a-copy\n",
      "  df_NTA_1['Effective Date'] = pd.to_datetime(df_NTA_1['Effective Date'], format='%m/%d/%y', exact = False)\n"
     ]
    }
   ],
   "source": [
    "df_NTA_1['Effective Date'] = pd.to_datetime(df_NTA_1['Effective Date'], format='%m/%d/%y', exact = False)\n",
    "   "
   ]
  },
  {
   "cell_type": "code",
   "execution_count": 88,
   "id": "cc0b8946",
   "metadata": {},
   "outputs": [
    {
     "data": {
      "text/plain": [
       "1     2020-04-02\n",
       "2     2020-01-05\n",
       "3     2020-02-03\n",
       "4     2020-06-30\n",
       "5     2020-07-02\n",
       "         ...    \n",
       "443   2020-07-11\n",
       "444   2020-08-06\n",
       "445   2020-12-09\n",
       "446   2020-12-05\n",
       "448   2020-01-26\n",
       "Name: Effective Date, Length: 306, dtype: datetime64[ns]"
      ]
     },
     "execution_count": 88,
     "metadata": {},
     "output_type": "execute_result"
    }
   ],
   "source": [
    "df_NTA_1['Effective Date']"
   ]
  },
  {
   "cell_type": "code",
   "execution_count": 89,
   "id": "520fb1a8",
   "metadata": {},
   "outputs": [
    {
     "data": {
      "text/html": [
       "<div>\n",
       "<style scoped>\n",
       "    .dataframe tbody tr th:only-of-type {\n",
       "        vertical-align: middle;\n",
       "    }\n",
       "\n",
       "    .dataframe tbody tr th {\n",
       "        vertical-align: top;\n",
       "    }\n",
       "\n",
       "    .dataframe thead th {\n",
       "        text-align: right;\n",
       "    }\n",
       "</style>\n",
       "<table border=\"1\" class=\"dataframe\">\n",
       "  <thead>\n",
       "    <tr style=\"text-align: right;\">\n",
       "      <th></th>\n",
       "      <th>Job created</th>\n",
       "      <th>Effective Date</th>\n",
       "    </tr>\n",
       "  </thead>\n",
       "  <tbody>\n",
       "    <tr>\n",
       "      <th>443</th>\n",
       "      <td>0.0</td>\n",
       "      <td>2020-07-11</td>\n",
       "    </tr>\n",
       "    <tr>\n",
       "      <th>444</th>\n",
       "      <td>0.0</td>\n",
       "      <td>2020-08-06</td>\n",
       "    </tr>\n",
       "    <tr>\n",
       "      <th>445</th>\n",
       "      <td>10.0</td>\n",
       "      <td>2020-12-09</td>\n",
       "    </tr>\n",
       "    <tr>\n",
       "      <th>446</th>\n",
       "      <td>0.0</td>\n",
       "      <td>2020-12-05</td>\n",
       "    </tr>\n",
       "    <tr>\n",
       "      <th>448</th>\n",
       "      <td>0.0</td>\n",
       "      <td>2020-01-26</td>\n",
       "    </tr>\n",
       "  </tbody>\n",
       "</table>\n",
       "</div>"
      ],
      "text/plain": [
       "     Job created Effective Date\n",
       "443          0.0     2020-07-11\n",
       "444          0.0     2020-08-06\n",
       "445         10.0     2020-12-09\n",
       "446          0.0     2020-12-05\n",
       "448          0.0     2020-01-26"
      ]
     },
     "execution_count": 89,
     "metadata": {},
     "output_type": "execute_result"
    }
   ],
   "source": [
    "df_plot_2 = df_NTA_1[['Job created','Effective Date']]\n",
    "df_plot_2 = df_plot_2.fillna(0)\n",
    "df_plot_2.tail()"
   ]
  },
  {
   "cell_type": "code",
   "execution_count": 90,
   "id": "656f1c97",
   "metadata": {},
   "outputs": [
    {
     "data": {
      "image/png": "[encoded data removed]",
      "text/plain": [
       "<Figure size 432x288 with 1 Axes>"
      ]
     },
     "metadata": {
      "needs_background": "light"
     },
     "output_type": "display_data"
    }
   ],
   "source": [
    "df_plot_2.plot(x='Effective Date', y='Job created');\n",
    "plt.xlabel('Date')\n",
    "plt.ylabel('Job Created');"
   ]
  },
  {
   "cell_type": "code",
   "execution_count": 91,
   "id": "0acf7395",
   "metadata": {},
   "outputs": [
    {
     "data": {
      "text/html": [
       "<div>\n",
       "<style scoped>\n",
       "    .dataframe tbody tr th:only-of-type {\n",
       "        vertical-align: middle;\n",
       "    }\n",
       "\n",
       "    .dataframe tbody tr th {\n",
       "        vertical-align: top;\n",
       "    }\n",
       "\n",
       "    .dataframe thead th {\n",
       "        text-align: right;\n",
       "    }\n",
       "</style>\n",
       "<table border=\"1\" class=\"dataframe\">\n",
       "  <thead>\n",
       "    <tr style=\"text-align: right;\">\n",
       "      <th></th>\n",
       "      <th>Job created</th>\n",
       "    </tr>\n",
       "    <tr>\n",
       "      <th>Effective Date</th>\n",
       "      <th></th>\n",
       "    </tr>\n",
       "  </thead>\n",
       "  <tbody>\n",
       "    <tr>\n",
       "      <th>2020-04-02</th>\n",
       "      <td>0.0</td>\n",
       "    </tr>\n",
       "    <tr>\n",
       "      <th>2020-01-05</th>\n",
       "      <td>0.0</td>\n",
       "    </tr>\n",
       "    <tr>\n",
       "      <th>2020-02-03</th>\n",
       "      <td>0.0</td>\n",
       "    </tr>\n",
       "    <tr>\n",
       "      <th>2020-06-30</th>\n",
       "      <td>0.0</td>\n",
       "    </tr>\n",
       "    <tr>\n",
       "      <th>2020-07-02</th>\n",
       "      <td>0.0</td>\n",
       "    </tr>\n",
       "  </tbody>\n",
       "</table>\n",
       "</div>"
      ],
      "text/plain": [
       "                Job created\n",
       "Effective Date             \n",
       "2020-04-02              0.0\n",
       "2020-01-05              0.0\n",
       "2020-02-03              0.0\n",
       "2020-06-30              0.0\n",
       "2020-07-02              0.0"
      ]
     },
     "execution_count": 91,
     "metadata": {},
     "output_type": "execute_result"
    }
   ],
   "source": [
    "df_plot_3 = df_plot_2.set_index('Effective Date')\n",
    "df_plot_3.head()"
   ]
  },
  {
   "cell_type": "code",
   "execution_count": 92,
   "id": "ec91aac2",
   "metadata": {},
   "outputs": [
    {
     "data": {
      "image/png": "[encoded data removed]",
      "text/plain": [
       "<Figure size 432x288 with 1 Axes>"
      ]
     },
     "metadata": {
      "needs_background": "light"
     },
     "output_type": "display_data"
    }
   ],
   "source": [
    "df_plot_3.plot();\n",
    "plt.xlabel('Date')\n",
    "plt.ylabel('Job Created');"
   ]
  },
  {
   "cell_type": "code",
   "execution_count": 93,
   "id": "b7116103",
   "metadata": {},
   "outputs": [
    {
     "data": {
      "image/png": "[encoded data removed]",
      "text/plain": [
       "<Figure size 432x288 with 1 Axes>"
      ]
     },
     "metadata": {
      "needs_background": "light"
     },
     "output_type": "display_data"
    }
   ],
   "source": [
    "#Answer - df_plot_4 shows line plot of the total jobs created for each month.\n",
    "df_plot_4 = df_plot_3.resample('M').sum()\n",
    "df_plot_4.plot();\n",
    "plt.xlabel('Date')\n",
    "plt.ylabel('Job Created');"
   ]
  },
  {
   "cell_type": "code",
   "execution_count": null,
   "id": "914669b7",
   "metadata": {},
   "outputs": [],
   "source": []
  }
 ],
 "metadata": {
  "kernelspec": {
   "display_name": "Python 3 (ipykernel)",
   "language": "python",
   "name": "python3"
  },
  "language_info": {
   "codemirror_mode": {
    "name": "ipython",
    "version": 3
   },
   "file_extension": ".py",
   "mimetype": "text/x-python",
   "name": "python",
   "nbconvert_exporter": "python",
   "pygments_lexer": "ipython3",
   "version": "3.10.3"
  }
 },
 "nbformat": 4,
 "nbformat_minor": 5
}
